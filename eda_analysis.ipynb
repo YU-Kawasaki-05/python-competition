{
  "cells": [
    {
      "cell_type": "code",
      "execution_count": null,
      "metadata": {
        "vscode": {
          "languageId": "plaintext"
        }
      },
      "outputs": [],
      "source": [
        "# NFL Draft Prediction - 探索的データ分析（EDA）\n",
        "\n",
        "## 概要\n",
        "NFL選手のドラフト指名予測のための包括的なデータ分析を行います。\n",
        "\n",
        "## 目標\n",
        "- データの構造と品質を理解\n",
        "- 欠損値パターンの分析\n",
        "- 特徴量とターゲットの関係性の発見\n",
        "- ドメイン知識の活用とインサイトの獲得\n"
      ]
    },
    {
      "cell_type": "code",
      "execution_count": null,
      "metadata": {
        "vscode": {
          "languageId": "plaintext"
        }
      },
      "outputs": [],
      "source": [
        "## 1. セットアップ\n"
      ]
    },
    {
      "cell_type": "code",
      "execution_count": null,
      "metadata": {},
      "outputs": [],
      "source": [
        "# 基本ライブラリのインポート\n",
        "import numpy as np\n",
        "import pandas as pd\n",
        "import matplotlib.pyplot as plt\n",
        "import seaborn as sns\n",
        "import warnings\n",
        "from scipy import stats\n",
        "\n",
        "# 設定\n",
        "plt.style.use('default')\n",
        "sns.set_palette(\"husl\")\n",
        "warnings.filterwarnings('ignore')\n",
        "pd.set_option('display.max_columns', None)\n",
        "pd.set_option('display.max_rows', 100)\n",
        "\n",
        "# 日本語フォント設定（必要に応じて）\n",
        "plt.rcParams['font.family'] = ['DejaVu Sans', 'Arial', 'sans-serif']\n",
        "\n",
        "print(\"ライブラリの読み込み完了\")\n"
      ]
    },
    {
      "cell_type": "code",
      "execution_count": null,
      "metadata": {},
      "outputs": [],
      "source": [
        "## 2. データ読み込み\n"
      ]
    },
    {
      "cell_type": "code",
      "execution_count": null,
      "metadata": {},
      "outputs": [],
      "source": [
        "# データ読み込み\n",
        "train = pd.read_csv('data/train.csv')\n",
        "test = pd.read_csv('data/test.csv')\n",
        "sample_submission = pd.read_csv('data/sample_submission_6_20修正.csv')\n",
        "\n",
        "print(f\"訓練データサイズ: {train.shape}\")\n",
        "print(f\"テストデータサイズ: {test.shape}\")\n",
        "print(f\"サンプル提出ファイルサイズ: {sample_submission.shape}\")\n",
        "\n",
        "# データの最初の数行を確認\n",
        "print(\"\\n=== 訓練データ（先頭5行）===\")\n",
        "display(train.head())\n",
        "print(\"\\n=== テストデータ（先頭5行）===\")\n",
        "display(test.head())\n"
      ]
    }
  ],
  "metadata": {
    "language_info": {
      "name": "python"
    }
  },
  "nbformat": 4,
  "nbformat_minor": 2
}
