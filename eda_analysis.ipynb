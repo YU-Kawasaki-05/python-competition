{
  "cells": [
    {
      "cell_type": "code",
      "execution_count": null,
      "metadata": {
        "vscode": {
          "languageId": "plaintext"
        }
      },
      "outputs": [],
      "source": [
        "# NFL Draft Prediction - 探索的データ分析（EDA）\n",
        "\n",
        "## 概要\n",
        "NFL選手のドラフト指名予測のための包括的なデータ分析を行います。\n",
        "\n",
        "## 目標\n",
        "- データの構造と品質を理解\n",
        "- 欠損値パターンの分析\n",
        "- 特徴量とターゲットの関係性の発見\n",
        "- ドメイン知識の活用とインサイトの獲得\n"
      ]
    },
    {
      "cell_type": "code",
      "execution_count": null,
      "metadata": {
        "vscode": {
          "languageId": "plaintext"
        }
      },
      "outputs": [],
      "source": [
        "## 1. セットアップ\n"
      ]
    },
    {
      "cell_type": "code",
      "execution_count": null,
      "metadata": {},
      "outputs": [],
      "source": [
        "# 基本ライブラリのインポート\n",
        "import numpy as np\n",
        "import pandas as pd\n",
        "import matplotlib.pyplot as plt\n",
        "import seaborn as sns\n",
        "import warnings\n",
        "from scipy import stats\n",
        "\n",
        "# 設定\n",
        "plt.style.use('default')\n",
        "sns.set_palette(\"husl\")\n",
        "warnings.filterwarnings('ignore')\n",
        "pd.set_option('display.max_columns', None)\n",
        "pd.set_option('display.max_rows', 100)\n",
        "\n",
        "# 日本語フォント設定（必要に応じて）\n",
        "plt.rcParams['font.family'] = ['DejaVu Sans', 'Arial', 'sans-serif']\n",
        "\n",
        "print(\"ライブラリの読み込み完了\")\n"
      ]
    },
    {
      "cell_type": "code",
      "execution_count": null,
      "metadata": {},
      "outputs": [],
      "source": [
        "## 2. データ読み込み\n"
      ]
    },
    {
      "cell_type": "code",
      "execution_count": null,
      "metadata": {},
      "outputs": [],
      "source": [
        "# データ読み込み\n",
        "train = pd.read_csv('data/train.csv')\n",
        "test = pd.read_csv('data/test.csv')\n",
        "sample_submission = pd.read_csv('data/sample_submission_6_20修正.csv')\n",
        "\n",
        "print(f\"訓練データサイズ: {train.shape}\")\n",
        "print(f\"テストデータサイズ: {test.shape}\")\n",
        "print(f\"サンプル提出ファイルサイズ: {sample_submission.shape}\")\n",
        "\n",
        "# データの最初の数行を確認\n",
        "print(\"\\n=== 訓練データ（先頭5行）===\")\n",
        "display(train.head())\n",
        "print(\"\\n=== テストデータ（先頭5行）===\")\n",
        "display(test.head())\n"
      ]
    },
    {
      "cell_type": "code",
      "execution_count": null,
      "metadata": {},
      "outputs": [],
      "source": [
        "## 3. 基本統計量とデータ概要\n"
      ]
    },
    {
      "cell_type": "code",
      "execution_count": null,
      "metadata": {},
      "outputs": [],
      "source": [
        "# データの基本情報\n",
        "print(\"=== 訓練データの基本情報 ===\")\n",
        "print(train.info())\n",
        "print(\"\\n=== 訓練データの基本統計量 ===\")\n",
        "print(train.describe())\n",
        "\n",
        "# カテゴリ変数の確認\n",
        "print(\"\\n=== カテゴリ変数の概要 ===\")\n",
        "categorical_cols = train.select_dtypes(include=['object']).columns.tolist()\n",
        "for col in categorical_cols:\n",
        "    print(f\"\\n{col}: {train[col].nunique()}個のユニーク値\")\n",
        "    print(train[col].value_counts().head())\n"
      ]
    },
    {
      "cell_type": "code",
      "execution_count": null,
      "metadata": {},
      "outputs": [],
      "source": [
        "## 4. 目的変数（Drafted）の分析\n"
      ]
    },
    {
      "cell_type": "code",
      "execution_count": null,
      "metadata": {},
      "outputs": [],
      "source": [
        "# 目的変数の分布分析\n",
        "fig, axes = plt.subplots(1, 2, figsize=(12, 5))\n",
        "\n",
        "# ヒストグラム\n",
        "axes[0].hist(train['Drafted'], bins=20, alpha=0.7, color='skyblue', edgecolor='black')\n",
        "axes[0].set_title('Drafted値の分布')\n",
        "axes[0].set_xlabel('Drafted')\n",
        "axes[0].set_ylabel('頻度')\n",
        "\n",
        "# 二値化での円グラフ\n",
        "drafted_binary = (train['Drafted'] > 0.5).astype(int)\n",
        "drafted_counts = drafted_binary.value_counts()\n",
        "axes[1].pie(drafted_counts.values, labels=['指名されず', '指名された'], autopct='%1.1f%%',\n",
        "           colors=['lightcoral', 'lightgreen'])\n",
        "axes[1].set_title('ドラフト指名の割合（二値化）')\n",
        "\n",
        "plt.tight_layout()\n",
        "plt.show()\n",
        "\n",
        "print(f\"Drafted値の平均: {train['Drafted'].mean():.4f}\")\n",
        "print(f\"指名された選手の割合: {drafted_binary.mean():.4f}\")\n",
        "print(f\"指名された選手数: {drafted_binary.sum()}人\")\n",
        "print(f\"指名されなかった選手数: {len(drafted_binary) - drafted_binary.sum()}人\")\n"
      ]
    },
    {
      "cell_type": "code",
      "execution_count": null,
      "metadata": {},
      "outputs": [],
      "source": [
        "## 5. 欠損値の詳細分析\n"
      ]
    },
    {
      "cell_type": "code",
      "execution_count": null,
      "metadata": {},
      "outputs": [],
      "source": [
        "# 欠損値の詳細分析\n",
        "def analyze_missing_values(df, title):\n",
        "    missing_data = df.isnull().sum()\n",
        "    missing_percent = 100 * missing_data / len(df)\n",
        "    \n",
        "    missing_table = pd.DataFrame({\n",
        "        '欠損数': missing_data,\n",
        "        '欠損率(%)': missing_percent\n",
        "    })\n",
        "    missing_table = missing_table[missing_table['欠損数'] > 0].sort_values('欠損数', ascending=False)\n",
        "    \n",
        "    print(f\"=== {title} 欠損値分析 ===\")\n",
        "    if len(missing_table) > 0:\n",
        "        print(missing_table)\n",
        "        \n",
        "        # 可視化\n",
        "        plt.figure(figsize=(10, 6))\n",
        "        sns.barplot(data=missing_table.reset_index(), x='欠損率(%)', y='index')\n",
        "        plt.title(f'{title} - 欠損率(%)')\n",
        "        plt.tight_layout()\n",
        "        plt.show()\n",
        "    else:\n",
        "        print(\"欠損値はありません\")\n",
        "    \n",
        "    return missing_table\n",
        "\n",
        "# 訓練データとテストデータの欠損値分析\n",
        "train_missing = analyze_missing_values(train, \"訓練データ\")\n",
        "test_missing = analyze_missing_values(test, \"テストデータ\")\n"
      ]
    }
  ],
  "metadata": {
    "language_info": {
      "name": "python"
    }
  },
  "nbformat": 4,
  "nbformat_minor": 2
}
